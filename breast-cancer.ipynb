{
 "cells": [
  {
   "cell_type": "code",
   "execution_count": 1,
   "id": "e11e96fc",
   "metadata": {},
   "outputs": [],
   "source": [
    "import numpy as np\n",
    "import pandas as pd\n",
    "import matplotlib.pyplot as plt\n",
    "import os\n",
    "import shutil\n",
    "import cv2\n",
    "import pickle"
   ]
  },
  {
   "cell_type": "code",
   "execution_count": 16,
   "id": "9731898f",
   "metadata": {},
   "outputs": [],
   "source": [
    "# libraries for image processing\n",
    "import tensorflow as tf\n",
    "from keras.preprocessing.image import ImageDataGenerator\n",
    "from keras.models import Sequential\n",
    "from keras.layers import Conv2D, MaxPooling2D, Flatten, Dense\n",
    "from keras.optimizers import Adam\n",
    "from keras.callbacks import EarlyStopping"
   ]
  },
  {
   "cell_type": "code",
   "execution_count": 3,
   "id": "cb981dbb",
   "metadata": {},
   "outputs": [],
   "source": [
    "# Load text file\n",
    "fold_df = pd.read_csv('dataset/Folds.csv')"
   ]
  },
  {
   "cell_type": "code",
   "execution_count": 4,
   "id": "1d48c6c4",
   "metadata": {},
   "outputs": [],
   "source": [
    "# Define paths\n",
    "img_path = \"./BreakHis_v1\"\n",
    "classes = ['benign', 'malign']"
   ]
  },
  {
   "cell_type": "code",
   "execution_count": 5,
   "id": "a652f822",
   "metadata": {},
   "outputs": [
    {
     "data": {
      "text/html": [
       "<div>\n",
       "<style scoped>\n",
       "    .dataframe tbody tr th:only-of-type {\n",
       "        vertical-align: middle;\n",
       "    }\n",
       "\n",
       "    .dataframe tbody tr th {\n",
       "        vertical-align: top;\n",
       "    }\n",
       "\n",
       "    .dataframe thead th {\n",
       "        text-align: right;\n",
       "    }\n",
       "</style>\n",
       "<table border=\"1\" class=\"dataframe\">\n",
       "  <thead>\n",
       "    <tr style=\"text-align: right;\">\n",
       "      <th></th>\n",
       "      <th>fold</th>\n",
       "      <th>mag</th>\n",
       "      <th>grp</th>\n",
       "      <th>path</th>\n",
       "    </tr>\n",
       "  </thead>\n",
       "  <tbody>\n",
       "    <tr>\n",
       "      <th>0</th>\n",
       "      <td>1</td>\n",
       "      <td>100</td>\n",
       "      <td>train</td>\n",
       "      <td>BreaKHis_v1/histology_slides/breast/benign/SOB...</td>\n",
       "    </tr>\n",
       "    <tr>\n",
       "      <th>1</th>\n",
       "      <td>1</td>\n",
       "      <td>100</td>\n",
       "      <td>train</td>\n",
       "      <td>BreaKHis_v1/histology_slides/breast/benign/SOB...</td>\n",
       "    </tr>\n",
       "    <tr>\n",
       "      <th>2</th>\n",
       "      <td>1</td>\n",
       "      <td>100</td>\n",
       "      <td>train</td>\n",
       "      <td>BreaKHis_v1/histology_slides/breast/benign/SOB...</td>\n",
       "    </tr>\n",
       "  </tbody>\n",
       "</table>\n",
       "</div>"
      ],
      "text/plain": [
       "   fold  mag    grp                                               path\n",
       "0     1  100  train  BreaKHis_v1/histology_slides/breast/benign/SOB...\n",
       "1     1  100  train  BreaKHis_v1/histology_slides/breast/benign/SOB...\n",
       "2     1  100  train  BreaKHis_v1/histology_slides/breast/benign/SOB..."
      ]
     },
     "execution_count": 5,
     "metadata": {},
     "output_type": "execute_result"
    }
   ],
   "source": [
    "# Rename column filename to path\n",
    "fold_df = fold_df.rename(columns={\"filename\": \"path\"})\n",
    "# Print head of file\n",
    "fold_df.head(3)"
   ]
  },
  {
   "cell_type": "code",
   "execution_count": 6,
   "id": "20095e91",
   "metadata": {},
   "outputs": [
    {
     "data": {
      "text/plain": [
       "'BreaKHis_v1/histology_slides/breast/benign/SOB/adenosis/SOB_B_A_14-22549AB/100X/SOB_B_A-14-22549AB-100-001.png'"
      ]
     },
     "execution_count": 6,
     "metadata": {},
     "output_type": "execute_result"
    }
   ],
   "source": [
    "# One example path is printed\n",
    "fold_df['path'][0]"
   ]
  },
  {
   "cell_type": "code",
   "execution_count": 7,
   "id": "711c9816",
   "metadata": {},
   "outputs": [],
   "source": [
    "# Extract the filename and label from the path column\n",
    "fold_df['filename'] = fold_df['path'].apply(lambda x: x.split('/')[-1])\n",
    "fold_df['label'] = fold_df['path'].apply(lambda x: x.split('/')[3])"
   ]
  },
  {
   "cell_type": "code",
   "execution_count": 8,
   "id": "01c05ba6",
   "metadata": {},
   "outputs": [
    {
     "data": {
      "text/html": [
       "<div>\n",
       "<style scoped>\n",
       "    .dataframe tbody tr th:only-of-type {\n",
       "        vertical-align: middle;\n",
       "    }\n",
       "\n",
       "    .dataframe tbody tr th {\n",
       "        vertical-align: top;\n",
       "    }\n",
       "\n",
       "    .dataframe thead th {\n",
       "        text-align: right;\n",
       "    }\n",
       "</style>\n",
       "<table border=\"1\" class=\"dataframe\">\n",
       "  <thead>\n",
       "    <tr style=\"text-align: right;\">\n",
       "      <th></th>\n",
       "      <th>fold</th>\n",
       "      <th>mag</th>\n",
       "      <th>grp</th>\n",
       "      <th>path</th>\n",
       "      <th>filename</th>\n",
       "      <th>label</th>\n",
       "    </tr>\n",
       "  </thead>\n",
       "  <tbody>\n",
       "    <tr>\n",
       "      <th>0</th>\n",
       "      <td>1</td>\n",
       "      <td>100</td>\n",
       "      <td>train</td>\n",
       "      <td>BreaKHis_v1/histology_slides/breast/benign/SOB...</td>\n",
       "      <td>SOB_B_A-14-22549AB-100-001.png</td>\n",
       "      <td>benign</td>\n",
       "    </tr>\n",
       "    <tr>\n",
       "      <th>1</th>\n",
       "      <td>1</td>\n",
       "      <td>100</td>\n",
       "      <td>train</td>\n",
       "      <td>BreaKHis_v1/histology_slides/breast/benign/SOB...</td>\n",
       "      <td>SOB_B_A-14-22549AB-100-002.png</td>\n",
       "      <td>benign</td>\n",
       "    </tr>\n",
       "    <tr>\n",
       "      <th>2</th>\n",
       "      <td>1</td>\n",
       "      <td>100</td>\n",
       "      <td>train</td>\n",
       "      <td>BreaKHis_v1/histology_slides/breast/benign/SOB...</td>\n",
       "      <td>SOB_B_A-14-22549AB-100-003.png</td>\n",
       "      <td>benign</td>\n",
       "    </tr>\n",
       "  </tbody>\n",
       "</table>\n",
       "</div>"
      ],
      "text/plain": [
       "   fold  mag    grp                                               path  \\\n",
       "0     1  100  train  BreaKHis_v1/histology_slides/breast/benign/SOB...   \n",
       "1     1  100  train  BreaKHis_v1/histology_slides/breast/benign/SOB...   \n",
       "2     1  100  train  BreaKHis_v1/histology_slides/breast/benign/SOB...   \n",
       "\n",
       "                         filename   label  \n",
       "0  SOB_B_A-14-22549AB-100-001.png  benign  \n",
       "1  SOB_B_A-14-22549AB-100-002.png  benign  \n",
       "2  SOB_B_A-14-22549AB-100-003.png  benign  "
      ]
     },
     "execution_count": 8,
     "metadata": {},
     "output_type": "execute_result"
    }
   ],
   "source": [
    "fold_df.head(3)"
   ]
  },
  {
   "cell_type": "code",
   "execution_count": null,
   "id": "0bc481e2",
   "metadata": {},
   "outputs": [],
   "source": [
    "# Create new directory\n",
    "os.makedirs('./Cancer/')"
   ]
  },
  {
   "cell_type": "code",
   "execution_count": 9,
   "id": "7eb4c711",
   "metadata": {},
   "outputs": [
    {
     "name": "stdout",
     "output_type": "stream",
     "text": [
      "Dataset reorganized into benign and malignant folders\n"
     ]
    }
   ],
   "source": [
    "# Clear Cancer directory and remake with subfolders\n",
    "cancer_dir = \"./Cancer\"\n",
    "if os.path.exists(cancer_dir):\n",
    "    shutil.rmtree(cancer_dir)\n",
    "os.makedirs(os.path.join(cancer_dir, \"benign\"))\n",
    "os.makedirs(os.path.join(cancer_dir, \"malignant\"))\n",
    "\n",
    "# Move images into their respective class folders\n",
    "for idx, row in fold_df.iterrows():\n",
    "    src = os.path.join(\"./dataset/BreaKHis_v1/\", row[\"path\"])\n",
    "\n",
    "    filename = row['filename']\n",
    "    label = row['label']\n",
    "    dest = os.path.join(cancer_dir, label, filename)\n",
    "    shutil.copyfile(src, dest)\n",
    "\n",
    "print(\"Dataset reorganized into benign and malignant folders\")"
   ]
  },
  {
   "cell_type": "code",
   "execution_count": 13,
   "id": "a18c5bbe",
   "metadata": {},
   "outputs": [
    {
     "name": "stdout",
     "output_type": "stream",
     "text": [
      "2480\n",
      "5429\n"
     ]
    }
   ],
   "source": [
    "# check length\n",
    "print(len(os.listdir(\"./Cancer/benign\")))\n",
    "print(len(os.listdir(\"./Cancer/malignant\")))"
   ]
  },
  {
   "cell_type": "markdown",
   "id": "e4b07fa3",
   "metadata": {},
   "source": [
    "All images now stored in a single folder"
   ]
  },
  {
   "cell_type": "code",
   "execution_count": 14,
   "id": "07dc45b7",
   "metadata": {},
   "outputs": [
    {
     "name": "stdout",
     "output_type": "stream",
     "text": [
      "Found 6328 images belonging to 2 classes.\n",
      "Found 1581 images belonging to 2 classes.\n"
     ]
    }
   ],
   "source": [
    "# from Ben's train_model.py\n",
    "\n",
    "# define dataset path\n",
    "data_dir = \"./Cancer\"\n",
    "batch_size = 32\n",
    "image_size = (150, 150)\n",
    "\n",
    "# Data preprocessing\n",
    "datagen = ImageDataGenerator(rescale=1./255, validation_split=0.2)\n",
    "train_gen = datagen.flow_from_directory(data_dir, target_size=image_size, batch_size=batch_size, class_mode='categorical', subset='training')\n",
    "val_gen = datagen.flow_from_directory(data_dir, target_size=image_size, batch_size=batch_size, class_mode='categorical', subset='validation')\n",
    "\n",
    "# save class indices\n",
    "with open('class_indices.pkl', 'wb') as f:\n",
    "    pickle.dump(train_gen.class_indices, f)"
   ]
  },
  {
   "cell_type": "code",
   "execution_count": 15,
   "id": "c796d5d0",
   "metadata": {},
   "outputs": [],
   "source": [
    "# Model\n",
    "model = Sequential([\n",
    "    Conv2D(32, (3, 3), activation='relu', input_shape=(150, 150, 3)),\n",
    "    MaxPooling2D((2, 2)),\n",
    "    Conv2D(64, (3, 3), activation='relu'),\n",
    "    MaxPooling2D((2, 2)),\n",
    "    Conv2D(128, (3, 3), activation='relu'),\n",
    "    MaxPooling2D((2, 2)),\n",
    "    Flatten(),\n",
    "    Dense(128, activation='relu'),\n",
    "    Dense(len(train_gen.class_indices), activation='sigmoid')\n",
    "])"
   ]
  },
  {
   "cell_type": "code",
   "execution_count": 17,
   "id": "c4ed1e95",
   "metadata": {},
   "outputs": [
    {
     "name": "stdout",
     "output_type": "stream",
     "text": [
      "Epoch 1/20\n",
      "198/198 [==============================] - 181s 909ms/step - loss: 0.5042 - accuracy: 0.7683 - val_loss: 0.5002 - val_accuracy: 0.7818\n",
      "Epoch 2/20\n",
      "198/198 [==============================] - 103s 522ms/step - loss: 0.4461 - accuracy: 0.8189 - val_loss: 0.4393 - val_accuracy: 0.8001\n",
      "Epoch 3/20\n",
      "198/198 [==============================] - 96s 483ms/step - loss: 0.4183 - accuracy: 0.8323 - val_loss: 0.3505 - val_accuracy: 0.8438\n",
      "Epoch 4/20\n",
      "198/198 [==============================] - 96s 484ms/step - loss: 0.4142 - accuracy: 0.8221 - val_loss: 0.4329 - val_accuracy: 0.8033\n",
      "Epoch 5/20\n",
      "198/198 [==============================] - 91s 457ms/step - loss: 0.3940 - accuracy: 0.8322 - val_loss: 0.3949 - val_accuracy: 0.8318\n",
      "Epoch 6/20\n",
      "198/198 [==============================] - 120s 605ms/step - loss: 0.3806 - accuracy: 0.8399 - val_loss: 0.3618 - val_accuracy: 0.8545\n",
      "Model training completed and saved!\n"
     ]
    }
   ],
   "source": [
    "model.compile(optimizer=Adam(learning_rate=0.001), loss='binary_crossentropy', metrics=['accuracy'])\n",
    "\n",
    "# Train\n",
    "early_stopping = EarlyStopping(monitor='val_loss', patience=3, restore_best_weights=True)\n",
    "history = model.fit(train_gen, validation_data=val_gen, epochs=20, callbacks=[early_stopping])\n",
    "\n",
    "# Save Model\n",
    "model.save('image_classifier.h5')\n",
    "print(\"Model training completed and saved!\")"
   ]
  }
 ],
 "metadata": {
  "kernelspec": {
   "display_name": "Python 3 (ipykernel)",
   "language": "python",
   "name": "python3"
  },
  "language_info": {
   "codemirror_mode": {
    "name": "ipython",
    "version": 3
   },
   "file_extension": ".py",
   "mimetype": "text/x-python",
   "name": "python",
   "nbconvert_exporter": "python",
   "pygments_lexer": "ipython3",
   "version": "3.13.2"
  }
 },
 "nbformat": 4,
 "nbformat_minor": 5
}
